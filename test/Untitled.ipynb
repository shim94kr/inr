{
 "cells": [
  {
   "cell_type": "code",
   "execution_count": 1,
   "id": "0844b30a-97b9-4858-9f44-53848977dced",
   "metadata": {},
   "outputs": [
    {
     "name": "stderr",
     "output_type": "stream",
     "text": [
      "....\n",
      "----------------------------------------------------------------------\n",
      "Ran 4 tests in 0.048s\n",
      "\n",
      "OK\n"
     ]
    }
   ],
   "source": [
    "import numpy as NP\n",
    "import math\n",
    "\n",
    "def isclose(x, y, rtol=1.e-5, atol=1.e-8):\n",
    "    return abs(x-y) <= atol + rtol * abs(y)\n",
    "\n",
    "def euler_angles_from_rotation_matrix(R):\n",
    "    '''\n",
    "    From a paper by Gregory G. Slabaugh (undated),\n",
    "    \"Computing Euler angles from a rotation matrix\n",
    "    '''\n",
    "    phi = 0.0\n",
    "    if isclose(R[2,0],-1.0):\n",
    "        theta = math.pi/2.0\n",
    "        psi = math.atan2(R[0,1],R[0,2])\n",
    "    elif isclose(R[2,0],1.0):\n",
    "        theta = -math.pi/2.0\n",
    "        psi = math.atan2(-R[0,1],-R[0,2])\n",
    "    else:\n",
    "        theta = -math.asin(R[2,0])\n",
    "        cos_theta = math.cos(theta)\n",
    "        psi = math.atan2(R[2,1]/cos_theta, R[2,2]/cos_theta)\n",
    "        phi = math.atan2(R[1,0]/cos_theta, R[0,0]/cos_theta)\n",
    "    return psi, theta, phi\n",
    "\n",
    "if __name__ == '__main__':\n",
    "    import unittest\n",
    "    import random\n",
    "    class Test(unittest.TestCase):\n",
    "        def test1(self):\n",
    "            R = NP.array([[0.5,-0.1464, 0.8536],\n",
    "                          [0.5, 0.8536, -0.1464],\n",
    "                          [-math.sqrt(2)/2.0,0.5,0.5]])\n",
    "            psi, theta, phi = euler_angles_from_rotation_matrix(R)\n",
    "            self.assertTrue(isclose(theta, math.pi/4.0))\n",
    "            self.assertTrue(isclose(psi, math.pi/4.0))\n",
    "            self.assertTrue(isclose(phi, math.pi/4.0))\n",
    "            \n",
    "        def test2(self):\n",
    "            R = NP.array([[0.5,-0.1464, 0.8536],\n",
    "                          [0.5, 0.8536, -0.1464],\n",
    "                          [-1.0,0.5,0.5]])\n",
    "            psi, theta, phi = euler_angles_from_rotation_matrix(R)\n",
    "            self.assertTrue(isclose(theta, math.pi/2.0))\n",
    "            self.assertTrue(isclose(psi, -0.16985631158231004))\n",
    "            self.assertTrue(isclose(phi, 0.0))\n",
    "\n",
    "        def test3(self):\n",
    "            R = NP.array([[0.5,-0.1464, 0.8536],\n",
    "                          [0.5, 0.8536, -0.1464],\n",
    "                          [1.0,0.5,0.5]])\n",
    "            psi, theta, phi = euler_angles_from_rotation_matrix(R)\n",
    "            self.assertTrue(isclose(theta, -math.pi/2.0))\n",
    "            self.assertTrue(isclose(psi, 2.971736342007483))\n",
    "            self.assertTrue(isclose(phi, 0.0))\n",
    "\n",
    "        def test4(self):\n",
    "            # A little fuzzing\n",
    "            rand = random.uniform\n",
    "            for i in range(10000):\n",
    "                R = NP.array([[rand(-1.,1.),rand(-1.,1.),rand(-1.,1.)],\n",
    "                              [rand(-1.,1.),rand(-1.,1.),rand(-1.,1.)],\n",
    "                              [rand(-1.,1.),rand(-1.,1.),rand(-1.,1.)]])\n",
    "                psi, theta, phi = euler_angles_from_rotation_matrix(R)\n",
    "\n",
    "    def suite():\n",
    "        suite1 = unittest.makeSuite(Test)\n",
    "        return unittest.TestSuite([suite1])\n",
    "\n",
    "    suite = unittest.TestLoader().loadTestsFromTestCase(Test)\n",
    "    unittest.TextTestRunner().run(suite)"
   ]
  },
  {
   "cell_type": "code",
   "execution_count": null,
   "id": "7f8b4d24-040e-4755-9c81-bfb8f475c7db",
   "metadata": {},
   "outputs": [],
   "source": []
  }
 ],
 "metadata": {
  "kernelspec": {
   "display_name": "inr",
   "language": "python",
   "name": "inr"
  },
  "language_info": {
   "codemirror_mode": {
    "name": "ipython",
    "version": 3
   },
   "file_extension": ".py",
   "mimetype": "text/x-python",
   "name": "python",
   "nbconvert_exporter": "python",
   "pygments_lexer": "ipython3",
   "version": "3.9.18"
  }
 },
 "nbformat": 4,
 "nbformat_minor": 5
}
